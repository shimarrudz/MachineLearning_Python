{
 "cells": [
  {
   "cell_type": "markdown",
   "id": "167e0e30",
   "metadata": {},
   "source": [
    "# Relatório do código de classificação de perfil de investidor\n",
    "O objetivo deste código é treinar um modelo de classificação para prever o perfil de investidor com base nas variáveis\n",
    "idade e capital inicial. O modelo utilizado foi o K-Nearest Neighbors (KNN).**\n",
    "\n",
    "### 1-Análise Exploratória de Dados\n",
    "#Os dados foram carregados a partir do arquivo U Invest - teste dos testes.csv. Foi realizada uma análise exploratória dos\n",
    "#dados utilizando a biblioteca Pandas. Os dados contêm três colunas: Perfil de investidor, Idade investidores e Capital Inicial.\n",
    "#O perfil de investidor é o atributo alvo que será predito pelo modelo.\n",
    "\n",
    "### 2-Pré-processamento dos dados\n",
    "#Para que o modelo de classificação KNN possa ser utilizado, as variáveis preditoras idade e capital inicial precisam \n",
    "#ser numéricas. A função LabelEncoder da biblioteca Scikit-learn foi utilizada para transformar as variáveis categóricas \n",
    "#em numéricas.\n",
    "\n",
    "### 3-Separando os dados\n",
    "#Os dados foram divididos em conjunto de treinamento e conjunto de teste utilizando a função train_test_split da biblioteca \n",
    "#Scikit-learn. Foram utilizados 80% dos dados para o conjunto de treinamento e 20% para o conjunto de teste.\n",
    "\n",
    "### 4-Treinando o modelo\n",
    "#O modelo de classificação escolhido foi o KNN com 5 vizinhos. O conjunto de treinamento foi utilizado para treinar o modelo.\n",
    "\n",
    "\n",
    "\n",
    "## Métricas que foram usadas para avaliar a eficácia do modelo de classificação são:\n",
    "\n",
    "### Acurácia:\n",
    "Mede a proporção de classificações corretas.\n",
    "### Precisão:\n",
    "Mede a proporção de verdadeiros positivos em relação ao total de classificações positivas. É uma medida da precisão do modelo na classificação de instâncias positivas.\n",
    "### Recall:\n",
    "Mede a proporção de verdadeiros positivos em relação ao total de instâncias que são realmente positivas. É uma medida da sensibilidade do modelo em identificar instâncias positivas.\n",
    "### F1 Score: \n",
    "Medida da precisão e recall do modelo, é a média harmônica da precisão e recall.\n",
    "\n",
    "# Resultados\n",
    "**O modelo foi avaliado utilizando a acurácia, que é a proporção de previsões corretas. A acurácia do modelo no conjunto de\n",
    "teste foi de 50%. Isso significa que o modelo classificou corretamente metade das amostras de teste.**"
   ]
  },
  {
   "cell_type": "code",
   "execution_count": 129,
   "id": "e2b714e6",
   "metadata": {},
   "outputs": [],
   "source": [
    "import numpy as np\n",
    "import pandas as pd\n",
    "\n",
    "import matplotlib.pyplot as plt\n",
    "\n",
    "from sklearn import datasets\n",
    "from sklearn.neighbors import KNeighborsClassifier\n",
    "from sklearn.model_selection import train_test_split\n",
    "        "
   ]
  },
  {
   "cell_type": "code",
   "execution_count": 130,
   "id": "ffc1438e",
   "metadata": {},
   "outputs": [],
   "source": [
    "#Primeiro passo: carregar os dados e fazer Análise Exploratória\n",
    "# Estamos carregando o arquivo csv usando o ; como separador\n",
    "dados = pd.read_csv('U Invest - teste dos testes.csv', sep=',')"
   ]
  },
  {
   "cell_type": "code",
   "execution_count": 131,
   "id": "08562594",
   "metadata": {},
   "outputs": [
    {
     "data": {
      "text/html": [
       "<div>\n",
       "<style scoped>\n",
       "    .dataframe tbody tr th:only-of-type {\n",
       "        vertical-align: middle;\n",
       "    }\n",
       "\n",
       "    .dataframe tbody tr th {\n",
       "        vertical-align: top;\n",
       "    }\n",
       "\n",
       "    .dataframe thead th {\n",
       "        text-align: right;\n",
       "    }\n",
       "</style>\n",
       "<table border=\"1\" class=\"dataframe\">\n",
       "  <thead>\n",
       "    <tr style=\"text-align: right;\">\n",
       "      <th></th>\n",
       "      <th>Perfil de investidor</th>\n",
       "      <th>Idade investidores</th>\n",
       "      <th>Capital Inicial</th>\n",
       "    </tr>\n",
       "  </thead>\n",
       "  <tbody>\n",
       "    <tr>\n",
       "      <th>0</th>\n",
       "      <td>Iniciante</td>\n",
       "      <td>0-18</td>\n",
       "      <td>100-500</td>\n",
       "    </tr>\n",
       "    <tr>\n",
       "      <th>1</th>\n",
       "      <td>Nao Investe</td>\n",
       "      <td>0-18</td>\n",
       "      <td>0-100</td>\n",
       "    </tr>\n",
       "    <tr>\n",
       "      <th>2</th>\n",
       "      <td>Conservador</td>\n",
       "      <td>19-29</td>\n",
       "      <td>500-1000</td>\n",
       "    </tr>\n",
       "    <tr>\n",
       "      <th>3</th>\n",
       "      <td>Moderado</td>\n",
       "      <td>30-39</td>\n",
       "      <td>1.000-10.000</td>\n",
       "    </tr>\n",
       "    <tr>\n",
       "      <th>4</th>\n",
       "      <td>Moderado</td>\n",
       "      <td>40-99</td>\n",
       "      <td>10.000-100.000</td>\n",
       "    </tr>\n",
       "    <tr>\n",
       "      <th>5</th>\n",
       "      <td>Conservador</td>\n",
       "      <td>19-29</td>\n",
       "      <td>1.000-10.000</td>\n",
       "    </tr>\n",
       "    <tr>\n",
       "      <th>6</th>\n",
       "      <td>Iniciante</td>\n",
       "      <td>19-29</td>\n",
       "      <td>500-1000</td>\n",
       "    </tr>\n",
       "    <tr>\n",
       "      <th>7</th>\n",
       "      <td>Iniciante</td>\n",
       "      <td>19-29</td>\n",
       "      <td>500-1000</td>\n",
       "    </tr>\n",
       "    <tr>\n",
       "      <th>8</th>\n",
       "      <td>Iniciante</td>\n",
       "      <td>0-18</td>\n",
       "      <td>100-500</td>\n",
       "    </tr>\n",
       "    <tr>\n",
       "      <th>9</th>\n",
       "      <td>Conservador</td>\n",
       "      <td>19-29</td>\n",
       "      <td>500-1000</td>\n",
       "    </tr>\n",
       "  </tbody>\n",
       "</table>\n",
       "</div>"
      ],
      "text/plain": [
       "  Perfil de investidor Idade investidores Capital Inicial\n",
       "0            Iniciante               0-18         100-500\n",
       "1          Nao Investe               0-18           0-100\n",
       "2          Conservador              19-29        500-1000\n",
       "3             Moderado              30-39    1.000-10.000\n",
       "4             Moderado              40-99  10.000-100.000\n",
       "5          Conservador              19-29    1.000-10.000\n",
       "6            Iniciante              19-29        500-1000\n",
       "7            Iniciante              19-29        500-1000\n",
       "8            Iniciante               0-18         100-500\n",
       "9          Conservador              19-29        500-1000"
      ]
     },
     "execution_count": 131,
     "metadata": {},
     "output_type": "execute_result"
    }
   ],
   "source": [
    "#Carregando os dados\n",
    "dados.head(10)\n"
   ]
  },
  {
   "cell_type": "code",
   "execution_count": 132,
   "id": "a7b8395b",
   "metadata": {},
   "outputs": [],
   "source": [
    "#Segundo passo: separar os dados\n",
    "\n",
    "#Precisamos ter claro em nossas mentes quais são os atributos (colunas) preditivas, isto é, aquelas que usaremos para \n",
    "#predizer um atributo alvo (coluna alvo).\n",
    "#No nosso caso os **atributos preditivos são Comprimento do Abdômen e Comprimento das Antenas**, e o\n",
    "#atributo alvo é a Espécie que será predita.\n",
    "#Quando se trabalhar com Aprendizado de Máquina Supervisionado, além disso precisamos separar nossos dados em dois conjuntos: um \n",
    "#**conjunto de treinamento** e um **conjunto de teste**. Fazemos isso para evitar overfitting do algoritmo.\n",
    "#Existem várias estratégias para se separar dados. Vamos aplicar as principais:\n",
    "#(a) Escolher o tamanho dos conjuntos - 80% para treinamento e 20% para teste;\n",
    "#(b) Selecionar aleatoriamente os dados que irão compor o conjunto de treinamento e teste (usando um seed para garantir \n",
    "\n",
    "from sklearn.model_selection import train_test_split"
   ]
  },
  {
   "cell_type": "code",
   "execution_count": 133,
   "id": "933f4d61",
   "metadata": {},
   "outputs": [],
   "source": [
    "from sklearn.preprocessing import LabelEncoder\n",
    "\n",
    "# Cria uma instância do objeto LabelEncoder\n",
    "labelencoder = LabelEncoder()\n",
    "\n",
    "# Converte a coluna \"Faixa etaria dos investidores\" para valores numéricos\n",
    "dados['Idade investidores'] = labelencoder.fit_transform(dados['Idade investidores'])\n",
    "\n",
    "# Converte a coluna \"Perfil de investidor\" para valores numéricos\n",
    "#dados['Perfil de investidor'] = labelencoder.fit_transform(dados['Perfil de investidor'])\n",
    "\n",
    "# Converte a coluna \"Tipos de investimento\" para valores numéricos\n",
    "#dados['Tipos de investimento'] = labelencoder.fit_transform(dados['Tipos de investimento'])\n",
    "\n",
    "# Converte a coluna \"Prazos de investimento\" para valores numéricos\n",
    "#dados['Prazos de investimento'] = labelencoder.fit_transform(dados['Prazos de investimento'])\n",
    "\n",
    "# Converte a coluna \"Capital Inicial de Investimento\" para valores numéricos\n",
    "dados['Capital Inicial'] = labelencoder.fit_transform(dados['Capital Inicial'])\n"
   ]
  },
  {
   "cell_type": "code",
   "execution_count": 134,
   "id": "b9837c81",
   "metadata": {},
   "outputs": [],
   "source": [
    "# Escolhendo as colunas preditivas e alvo\n",
    "x = dados.drop(columns = 'Perfil de investidor') # Somente Comprimento do Abdômen e Comprimento das Antenas\n",
    "y = dados['Perfil de investidor']                # Classe alvo\n",
    "\n",
    "# Dividindo conjunto de treinamento e conjunto de teste\n",
    "x_train, x_test, y_train, y_test = train_test_split(x, y, test_size = 0.2, random_state = 42)"
   ]
  },
  {
   "cell_type": "code",
   "execution_count": 135,
   "id": "e31c3691",
   "metadata": {},
   "outputs": [
    {
     "data": {
      "text/html": [
       "<div>\n",
       "<style scoped>\n",
       "    .dataframe tbody tr th:only-of-type {\n",
       "        vertical-align: middle;\n",
       "    }\n",
       "\n",
       "    .dataframe tbody tr th {\n",
       "        vertical-align: top;\n",
       "    }\n",
       "\n",
       "    .dataframe thead th {\n",
       "        text-align: right;\n",
       "    }\n",
       "</style>\n",
       "<table border=\"1\" class=\"dataframe\">\n",
       "  <thead>\n",
       "    <tr style=\"text-align: right;\">\n",
       "      <th></th>\n",
       "      <th>Idade investidores</th>\n",
       "      <th>Capital Inicial</th>\n",
       "    </tr>\n",
       "  </thead>\n",
       "  <tbody>\n",
       "    <tr>\n",
       "      <th>44</th>\n",
       "      <td>0</td>\n",
       "      <td>0</td>\n",
       "    </tr>\n",
       "    <tr>\n",
       "      <th>12</th>\n",
       "      <td>0</td>\n",
       "      <td>0</td>\n",
       "    </tr>\n",
       "    <tr>\n",
       "      <th>15</th>\n",
       "      <td>4</td>\n",
       "      <td>2</td>\n",
       "    </tr>\n",
       "    <tr>\n",
       "      <th>70</th>\n",
       "      <td>0</td>\n",
       "      <td>0</td>\n",
       "    </tr>\n",
       "    <tr>\n",
       "      <th>108</th>\n",
       "      <td>3</td>\n",
       "      <td>1</td>\n",
       "    </tr>\n",
       "  </tbody>\n",
       "</table>\n",
       "</div>"
      ],
      "text/plain": [
       "     Idade investidores  Capital Inicial\n",
       "44                    0                0\n",
       "12                    0                0\n",
       "15                    4                2\n",
       "70                    0                0\n",
       "108                   3                1"
      ]
     },
     "execution_count": 135,
     "metadata": {},
     "output_type": "execute_result"
    }
   ],
   "source": [
    "x_train.head(5)"
   ]
  },
  {
   "cell_type": "code",
   "execution_count": 136,
   "id": "edd51d8f",
   "metadata": {},
   "outputs": [
    {
     "data": {
      "text/plain": [
       "44     Nao Investe\n",
       "12     Nao Investe\n",
       "15        Moderado\n",
       "70     Nao Investe\n",
       "108       Moderado\n",
       "Name: Perfil de investidor, dtype: object"
      ]
     },
     "execution_count": 136,
     "metadata": {},
     "output_type": "execute_result"
    }
   ],
   "source": [
    "y_train.head(5)"
   ]
  },
  {
   "cell_type": "code",
   "execution_count": 137,
   "id": "085b6b89",
   "metadata": {},
   "outputs": [],
   "source": [
    "###Treinar o algoritmo\n",
    "#Vamos usar o conjunto de treinamento para treinar o algoritmo escolhido.\n",
    "#Existem vários algoritmos possíveis. Cada algoritmo tem seus hiperparâmetros (parâmetros que devem ser escolhidos para melhorar a performance do algoritmo). Para entender os hiperparâmetros de cada algoritmo é necessário entender a fundo como aquele algoritmo funciona.\n",
    "#Aqui vamos usar um dos algoritmos mais simples existentes, o Descriminador Linear:"
   ]
  },
  {
   "cell_type": "code",
   "execution_count": 138,
   "id": "c5b82391",
   "metadata": {},
   "outputs": [],
   "source": [
    "#Importando o algoritmo de descriminador linear\n",
    "from sklearn.discriminant_analysis import LinearDiscriminantAnalysis"
   ]
  },
  {
   "cell_type": "code",
   "execution_count": 139,
   "id": "202356d1",
   "metadata": {},
   "outputs": [
    {
     "data": {
      "text/html": [
       "<style>#sk-container-id-3 {color: black;background-color: white;}#sk-container-id-3 pre{padding: 0;}#sk-container-id-3 div.sk-toggleable {background-color: white;}#sk-container-id-3 label.sk-toggleable__label {cursor: pointer;display: block;width: 100%;margin-bottom: 0;padding: 0.3em;box-sizing: border-box;text-align: center;}#sk-container-id-3 label.sk-toggleable__label-arrow:before {content: \"▸\";float: left;margin-right: 0.25em;color: #696969;}#sk-container-id-3 label.sk-toggleable__label-arrow:hover:before {color: black;}#sk-container-id-3 div.sk-estimator:hover label.sk-toggleable__label-arrow:before {color: black;}#sk-container-id-3 div.sk-toggleable__content {max-height: 0;max-width: 0;overflow: hidden;text-align: left;background-color: #f0f8ff;}#sk-container-id-3 div.sk-toggleable__content pre {margin: 0.2em;color: black;border-radius: 0.25em;background-color: #f0f8ff;}#sk-container-id-3 input.sk-toggleable__control:checked~div.sk-toggleable__content {max-height: 200px;max-width: 100%;overflow: auto;}#sk-container-id-3 input.sk-toggleable__control:checked~label.sk-toggleable__label-arrow:before {content: \"▾\";}#sk-container-id-3 div.sk-estimator input.sk-toggleable__control:checked~label.sk-toggleable__label {background-color: #d4ebff;}#sk-container-id-3 div.sk-label input.sk-toggleable__control:checked~label.sk-toggleable__label {background-color: #d4ebff;}#sk-container-id-3 input.sk-hidden--visually {border: 0;clip: rect(1px 1px 1px 1px);clip: rect(1px, 1px, 1px, 1px);height: 1px;margin: -1px;overflow: hidden;padding: 0;position: absolute;width: 1px;}#sk-container-id-3 div.sk-estimator {font-family: monospace;background-color: #f0f8ff;border: 1px dotted black;border-radius: 0.25em;box-sizing: border-box;margin-bottom: 0.5em;}#sk-container-id-3 div.sk-estimator:hover {background-color: #d4ebff;}#sk-container-id-3 div.sk-parallel-item::after {content: \"\";width: 100%;border-bottom: 1px solid gray;flex-grow: 1;}#sk-container-id-3 div.sk-label:hover label.sk-toggleable__label {background-color: #d4ebff;}#sk-container-id-3 div.sk-serial::before {content: \"\";position: absolute;border-left: 1px solid gray;box-sizing: border-box;top: 0;bottom: 0;left: 50%;z-index: 0;}#sk-container-id-3 div.sk-serial {display: flex;flex-direction: column;align-items: center;background-color: white;padding-right: 0.2em;padding-left: 0.2em;position: relative;}#sk-container-id-3 div.sk-item {position: relative;z-index: 1;}#sk-container-id-3 div.sk-parallel {display: flex;align-items: stretch;justify-content: center;background-color: white;position: relative;}#sk-container-id-3 div.sk-item::before, #sk-container-id-3 div.sk-parallel-item::before {content: \"\";position: absolute;border-left: 1px solid gray;box-sizing: border-box;top: 0;bottom: 0;left: 50%;z-index: -1;}#sk-container-id-3 div.sk-parallel-item {display: flex;flex-direction: column;z-index: 1;position: relative;background-color: white;}#sk-container-id-3 div.sk-parallel-item:first-child::after {align-self: flex-end;width: 50%;}#sk-container-id-3 div.sk-parallel-item:last-child::after {align-self: flex-start;width: 50%;}#sk-container-id-3 div.sk-parallel-item:only-child::after {width: 0;}#sk-container-id-3 div.sk-dashed-wrapped {border: 1px dashed gray;margin: 0 0.4em 0.5em 0.4em;box-sizing: border-box;padding-bottom: 0.4em;background-color: white;}#sk-container-id-3 div.sk-label label {font-family: monospace;font-weight: bold;display: inline-block;line-height: 1.2em;}#sk-container-id-3 div.sk-label-container {text-align: center;}#sk-container-id-3 div.sk-container {/* jupyter's `normalize.less` sets `[hidden] { display: none; }` but bootstrap.min.css set `[hidden] { display: none !important; }` so we also need the `!important` here to be able to override the default hidden behavior on the sphinx rendered scikit-learn.org. See: https://github.com/scikit-learn/scikit-learn/issues/21755 */display: inline-block !important;position: relative;}#sk-container-id-3 div.sk-text-repr-fallback {display: none;}</style><div id=\"sk-container-id-3\" class=\"sk-top-container\"><div class=\"sk-text-repr-fallback\"><pre>LinearDiscriminantAnalysis()</pre><b>In a Jupyter environment, please rerun this cell to show the HTML representation or trust the notebook. <br />On GitHub, the HTML representation is unable to render, please try loading this page with nbviewer.org.</b></div><div class=\"sk-container\" hidden><div class=\"sk-item\"><div class=\"sk-estimator sk-toggleable\"><input class=\"sk-toggleable__control sk-hidden--visually\" id=\"sk-estimator-id-3\" type=\"checkbox\" checked><label for=\"sk-estimator-id-3\" class=\"sk-toggleable__label sk-toggleable__label-arrow\">LinearDiscriminantAnalysis</label><div class=\"sk-toggleable__content\"><pre>LinearDiscriminantAnalysis()</pre></div></div></div></div></div>"
      ],
      "text/plain": [
       "LinearDiscriminantAnalysis()"
      ]
     },
     "execution_count": 139,
     "metadata": {},
     "output_type": "execute_result"
    }
   ],
   "source": [
    "lda = LinearDiscriminantAnalysis()  # Criamos o objeto do classificador (não mudamos nenhum hiperpârametro)\n",
    "\n",
    "lda.fit(x_train,y_train) # Treinamos o classificador passando apenas o conjunto de dados de treinamento "
   ]
  },
  {
   "cell_type": "code",
   "execution_count": 140,
   "id": "3a9ba53e",
   "metadata": {},
   "outputs": [],
   "source": [
    "#Uma vez que realizamos um teste, precisamos avaliar o desempenho do nosso método. Diferentes hiperparâmetros e \n",
    "#diferentes algoritmos podem ter um desempenho diferente. Apesar de sempre buscarmos o melhor desempenho, devemos levar\n",
    "#em consideração outros aspectos para decidir o que é um desempenho aceitável. A primeira coisa a definir são as métricas\n",
    "#de desempenho que podem ser comparadas entre diferentes algoritmos.\n",
    "\n",
    "#Existem várias métricas para se medir o desempenho de um classificador: métricas de performance, métricas de tempo consumido,\n",
    "#métricas de memória consumida, etc. Vamos focar em uma métrica de performance muito utilizada no dia a dia de trabalho: a \n",
    "#Matriz de Confusão e seus índices (Acurácia, Precisão, Recall e F1-score)."
   ]
  },
  {
   "cell_type": "code",
   "execution_count": 141,
   "id": "ceff686c",
   "metadata": {},
   "outputs": [],
   "source": [
    "#Testando e avaliando\n",
    "\n",
    "#Usando agora o conjunto de teste, iremos testar o classificador criado e treinando no passo anterior.\n",
    "\n",
    "#Uma vez que realizamos um teste, precisamos avaliar o desempenho do nosso método. Diferentes hiperparâmetros e diferentes\n",
    "#algoritmos podem ter um desempenho diferente. Apesar de sempre buscarmos o melhor desempenho, devemos levar em consideração\n",
    "#outros aspectos para decidir o que é um desempenho aceitável. A primeira coisa a definir são as **métricas de desempenho** \n",
    "#que podem ser comparadas entre diferentes algoritmos. Existem várias métricas para se medir o desempenho de um \n",
    "#classificador: métricas de performance, métricas de tempo consumido, métricas de memória consumida, etc."
   ]
  },
  {
   "cell_type": "code",
   "execution_count": 142,
   "id": "7a8d8444",
   "metadata": {},
   "outputs": [],
   "source": [
    "#Vamos focar em uma métrica de performance muito utilizada no dia a dia de trabalho: a **Matriz de Confusão** \n",
    "#e seus índices (**Acurácia, Precisão, Recall e F1-score**).\n",
    "# Perceba que estamos passando apenas o x de teste, afinal o algoritmo é que nos dira qual é o y \n",
    "y_predicoes = lda.predict(x_test) "
   ]
  },
  {
   "cell_type": "code",
   "execution_count": 143,
   "id": "dcb6196f",
   "metadata": {},
   "outputs": [
    {
     "data": {
      "text/plain": [
       "array(['Iniciante', 'Nao Investe', 'Moderado', 'Iniciante', 'Nao Investe',\n",
       "       'Moderado', 'Nao Investe', 'Conservador', 'Conservador',\n",
       "       'Moderado', 'Conservador', 'Conservador', 'Nao Investe',\n",
       "       'Iniciante', 'Nao Investe', 'Moderado', 'Iniciante', 'Iniciante',\n",
       "       'Iniciante', 'Iniciante', 'Moderado', 'Iniciante', 'Iniciante',\n",
       "       'Moderado'], dtype='<U11')"
      ]
     },
     "execution_count": 143,
     "metadata": {},
     "output_type": "execute_result"
    }
   ],
   "source": [
    "y_predicoes"
   ]
  },
  {
   "cell_type": "code",
   "execution_count": 144,
   "id": "60a8bdea",
   "metadata": {},
   "outputs": [],
   "source": [
    "from sklearn.metrics import confusion_matrix, ConfusionMatrixDisplay\n",
    "from sklearn.metrics import f1_score, accuracy_score, precision_score, recall_score, classification_report"
   ]
  },
  {
   "cell_type": "code",
   "execution_count": 145,
   "id": "52f82e28",
   "metadata": {},
   "outputs": [],
   "source": [
    "matriz_confusao = confusion_matrix(y_true = y_test,\n",
    "                                   y_pred = y_predicoes,\n",
    "                                   labels=['Iniciante','Moderado','Nao Investe', 'Conservador'])"
   ]
  },
  {
   "cell_type": "code",
   "execution_count": 146,
   "id": "840b88b9",
   "metadata": {},
   "outputs": [
    {
     "data": {
      "text/plain": [
       "<sklearn.metrics._plot.confusion_matrix.ConfusionMatrixDisplay at 0x2ac126a4710>"
      ]
     },
     "execution_count": 146,
     "metadata": {},
     "output_type": "execute_result"
    },
    {
     "data": {
      "text/plain": [
       "<Figure size 1500x500 with 0 Axes>"
      ]
     },
     "metadata": {},
     "output_type": "display_data"
    },
    {
     "data": {
      "image/png": "[encoded data removed]",
      "text/plain": [
       "<Figure size 640x480 with 2 Axes>"
      ]
     },
     "metadata": {},
     "output_type": "display_data"
    }
   ],
   "source": [
    "# plotando uma figura com a matriz de confusao\n",
    "figure = plt.figure(figsize=(15, 5))\n",
    "disp = ConfusionMatrixDisplay(confusion_matrix = matriz_confusao, display_labels=['Iniciante','Moderado','Nao Investe', 'Conservador'])\n",
    "disp.plot(values_format='d') "
   ]
  },
  {
   "cell_type": "code",
   "execution_count": 147,
   "id": "c1997cf3",
   "metadata": {},
   "outputs": [
    {
     "data": {
      "text/plain": [
       "0.9583333333333334"
      ]
     },
     "execution_count": 147,
     "metadata": {},
     "output_type": "execute_result"
    }
   ],
   "source": [
    "accuracy_score(y_true = y_test, y_pred = y_predicoes,) "
   ]
  },
  {
   "cell_type": "code",
   "execution_count": 148,
   "id": "676060b8",
   "metadata": {},
   "outputs": [
    {
     "name": "stdout",
     "output_type": "stream",
     "text": [
      "              precision    recall  f1-score   support\n",
      "\n",
      " Conservador       1.00      0.80      0.89         5\n",
      "   Iniciante       1.00      1.00      1.00         9\n",
      "    Moderado       0.83      1.00      0.91         5\n",
      " Nao Investe       1.00      1.00      1.00         5\n",
      "\n",
      "    accuracy                           0.96        24\n",
      "   macro avg       0.96      0.95      0.95        24\n",
      "weighted avg       0.97      0.96      0.96        24\n",
      "\n"
     ]
    }
   ],
   "source": [
    "# Metricas de precisão, revocação, f1-score e acurácia.\n",
    "print(classification_report(y_test, y_predicoes))"
   ]
  },
  {
   "cell_type": "code",
   "execution_count": 149,
   "id": "23774193",
   "metadata": {},
   "outputs": [],
   "source": [
    "#Vamos desenhar sobre o gráfico de dispersão o modelo matemático encontrado pelo algoritmo de Classificação LDA:"
   ]
  },
  {
   "cell_type": "code",
   "execution_count": 150,
   "id": "dc154358",
   "metadata": {},
   "outputs": [],
   "source": [
    "import numpy as np\n",
    "\n",
    "# São os coeficientes do nosso modelo de ML treinado\n",
    "c1, c2 = lda.coef_[0]\n",
    "b = lda.intercept_[0]\n",
    "\n",
    "# É a equação da reta do LDA\n",
    "x1 = np.arange(0,10)\n",
    "x2 = - (c1/c2)* x1 - b/c2\n"
   ]
  },
  {
   "cell_type": "code",
   "execution_count": 151,
   "id": "640fa39d",
   "metadata": {},
   "outputs": [],
   "source": [
    "import seaborn as sns\n"
   ]
  },
  {
   "cell_type": "code",
   "execution_count": 152,
   "id": "971b5747",
   "metadata": {},
   "outputs": [
    {
     "data": {
      "text/plain": [
       "(0.0, 11.0)"
      ]
     },
     "execution_count": 152,
     "metadata": {},
     "output_type": "execute_result"
    },
    {
     "data": {
      "image/png": "[encoded data removed]",
      "text/plain": [
       "<Figure size 500x500 with 3 Axes>"
      ]
     },
     "metadata": {},
     "output_type": "display_data"
    }
   ],
   "source": [
    "plot = sns.jointplot(data=dados, x=\"Idade investidores\", y=\"Capital Inicial\", hue = 'Perfil de investidor',\n",
    "              height=5, ratio=4, marginal_ticks=True\n",
    "             )\n",
    "plot.ax_joint.plot(x1, x2, 'r-', linewidth = 2)\n",
    "plot.ax_marg_x.axvline(x=4.5, color='k', linestyle='--')\n",
    "plot.ax_marg_y.axhline(y=5.3, color='k', linestyle='--')\n",
    "plot.ax_joint.set_xlim(0,11)\n",
    "plot.ax_joint.set_ylim(0,11)"
   ]
  },
  {
   "cell_type": "code",
   "execution_count": 153,
   "id": "d2e2ac08",
   "metadata": {},
   "outputs": [],
   "source": [
    "#Deixando meu modelo pronto para ser baixado"
   ]
  },
  {
   "cell_type": "code",
   "execution_count": 154,
   "id": "1e0a0acc",
   "metadata": {},
   "outputs": [],
   "source": [
    "import pickle"
   ]
  },
  {
   "cell_type": "code",
   "execution_count": 155,
   "id": "6dae24d9",
   "metadata": {},
   "outputs": [],
   "source": [
    "# vamos salvar em bytes (flag wb) para ser mais cross-platform (acessível a vários sistemas)\n",
    "with open('meu_modelo_serializado.pickle', 'wb') as f: \n",
    "    pickle.dump(lda, f)"
   ]
  },
  {
   "cell_type": "code",
   "execution_count": 156,
   "id": "ffe54822",
   "metadata": {},
   "outputs": [],
   "source": [
    "with open('meu_modelo_serializado.pickle', 'rb') as f:\n",
    "    modelo_carregado = pickle.load(f)"
   ]
  },
  {
   "cell_type": "code",
   "execution_count": 157,
   "id": "57769446",
   "metadata": {},
   "outputs": [
    {
     "name": "stderr",
     "output_type": "stream",
     "text": [
      "C:\\Users\\Shima\\AppData\\Local\\Programs\\Python\\Python311\\Lib\\site-packages\\sklearn\\base.py:439: UserWarning: X does not have valid feature names, but LinearDiscriminantAnalysis was fitted with feature names\n",
      "  warnings.warn(\n"
     ]
    },
    {
     "data": {
      "text/plain": [
       "array(['Conservador'], dtype='<U11')"
      ]
     },
     "execution_count": 157,
     "metadata": {},
     "output_type": "execute_result"
    }
   ],
   "source": [
    "modelo_carregado.predict([[1,2]])"
   ]
  },
  {
   "cell_type": "markdown",
   "id": "ca45f749",
   "metadata": {},
   "source": [
    "# Relatório de agrupamento\n",
    "\n",
    "### 1-Explicação do código\n",
    "\n",
    "-O código começa importando a biblioteca pandas para lidar com dataframes e a biblioteca KMeans do sklearn.cluster para realizar o agrupamento.\n",
    "\n",
    "-O dataset é carregado a partir de um arquivo CSV usando o método pd.read_csv().\n",
    "\n",
    "-As colunas Idade investidores e Capital Inicial são selecionadas para serem usadas no agrupamento, e são armazenadas no objeto X.\n",
    "\n",
    "-O número de clusters é definido como 3 e um objeto KMeans é criado com esta configuração.\n",
    "\n",
    "-O modelo KMeans é treinado com os dados de X usando o método fit().\n",
    "\n",
    "-As etiquetas de cluster são obtidas para cada ponto de dados em X usando o método predict().\n",
    "\n",
    "-As etiquetas de cluster são adicionadas de volta ao dataframe original como uma nova coluna chamada 'cluster'.\n",
    "\n",
    "-Os cinco primeiros registros do dataframe são exibidos na saída do programa usando o método head().\n",
    "\n",
    "-Em resumo, o código carrega um dataset, seleciona as colunas desejadas para realizar o agrupamento usando o algoritmo KMeans, treina o modelo, obtém as etiquetas de cluster para cada ponto de dados e adiciona estas etiquetas de cluster de volta ao dataframe original. Em seguida, o código exibe os primeiros registros do dataframe para verificar os resultados.\n",
    "Foi feita a criação de um modelo de clustering utilizando o algoritmo **KMeans com 3 clusters**, a partir de um conjunto de dados contendo informações de idade e capital inicial de investidores. O Silhouette Score foi utilizado como métrica de desempenho, e obteve um valor de **0.7329**, o que indica uma **boa qualidade de separação dos clusters.**\n",
    "\n",
    "\n",
    "### Métrica de desempenho utilizada no agrupamento\n",
    "\n",
    "**O Silhouette Score** é uma métrica que varia de -1 a 1, onde valores mais próximos de 1 indicam que as amostras estão bem\n",
    "separadas entre os clusters, enquanto valores mais próximos de -1 indicam que muitas amostras podem ter sido atribuídas ao\n",
    "cluster errado. Portanto, um valor de 0,7329 indica que os clusters estão bem separados e é considerado um bom resultado \n",
    "para o Silhouette Score."
   ]
  },
  {
   "cell_type": "code",
   "execution_count": 158,
   "id": "c245d122",
   "metadata": {},
   "outputs": [
    {
     "name": "stdout",
     "output_type": "stream",
     "text": [
      "  Perfil de investidor  Idade investidores  Capital Inicial  cluster\n",
      "0            Iniciante                   0                3        0\n",
      "1          Nao Investe                   0                0        1\n",
      "2          Conservador                   2                4        0\n",
      "3             Moderado                   3                1        2\n",
      "4             Moderado                   4                2        2\n"
     ]
    },
    {
     "name": "stderr",
     "output_type": "stream",
     "text": [
      "C:\\Users\\Shima\\AppData\\Local\\Programs\\Python\\Python311\\Lib\\site-packages\\sklearn\\cluster\\_kmeans.py:870: FutureWarning: The default value of `n_init` will change from 10 to 'auto' in 1.4. Set the value of `n_init` explicitly to suppress the warning\n",
      "  warnings.warn(\n"
     ]
    }
   ],
   "source": [
    "#Realizando 1 modelo de aprendizado de máquina descritivo (agrupamento) - inclua no relatório os parâmetros\n",
    "#e modelos utilizados, as métricas de desempenho pertinentes, e discuta sua aplicação.\n",
    "\n",
    "\n",
    "import pandas as pd\n",
    "from sklearn.cluster import KMeans\n",
    "\n",
    "\n",
    "\n",
    "# selecionar as colunas que você deseja usar para agrupamento\n",
    "X = dados[['Idade investidores', 'Capital Inicial']]\n",
    "\n",
    "# criar um objeto de KMeans com o número de clusters desejado\n",
    "kmeans = KMeans(n_clusters=3)\n",
    "\n",
    "# treinar o modelo de clustering\n",
    "kmeans.fit(X)\n",
    "\n",
    "# obter os rótulos de cluster para cada ponto de dados\n",
    "labels = kmeans.predict(X)\n",
    "\n",
    "# adicionar os rótulos de cluster de volta ao dataframe original\n",
    "dados['cluster'] = labels\n",
    "\n",
    "# visualizar os resultados\n",
    "print(dados.head())\n"
   ]
  },
  {
   "cell_type": "code",
   "execution_count": 159,
   "id": "6fc48a46",
   "metadata": {},
   "outputs": [
    {
     "name": "stdout",
     "output_type": "stream",
     "text": [
      "Silhouette Score: 0.7329468927996106\n"
     ]
    },
    {
     "name": "stderr",
     "output_type": "stream",
     "text": [
      "C:\\Users\\Shima\\AppData\\Local\\Programs\\Python\\Python311\\Lib\\site-packages\\sklearn\\cluster\\_kmeans.py:870: FutureWarning: The default value of `n_init` will change from 10 to 'auto' in 1.4. Set the value of `n_init` explicitly to suppress the warning\n",
      "  warnings.warn(\n"
     ]
    }
   ],
   "source": [
    "from sklearn.metrics import silhouette_score\n",
    "\n",
    "# Treinando o modelo\n",
    "kmeans.fit(X)\n",
    "\n",
    "# Obtendo as etiquetas dos clusters para cada ponto de dados\n",
    "labels = kmeans.predict(X)\n",
    "\n",
    "# Obtendo as coordenadas dos centróides de cada cluster\n",
    "centroids = kmeans.cluster_centers_\n",
    "\n",
    "# Calculando o Silhouette Score\n",
    "silhouette_avg = silhouette_score(X, labels)\n",
    "print(\"Silhouette Score:\", silhouette_avg)\n"
   ]
  }
 ],
 "metadata": {
  "kernelspec": {
   "display_name": "Python 3 (ipykernel)",
   "language": "python",
   "name": "python3"
  },
  "language_info": {
   "codemirror_mode": {
    "name": "ipython",
    "version": 3
   },
   "file_extension": ".py",
   "mimetype": "text/x-python",
   "name": "python",
   "nbconvert_exporter": "python",
   "pygments_lexer": "ipython3",
   "version": "3.11.2"
  }
 },
 "nbformat": 4,
 "nbformat_minor": 5
}
